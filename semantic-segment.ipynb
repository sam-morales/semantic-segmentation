{
  "nbformat": 4,
  "nbformat_minor": 0,
  "metadata": {
    "kernelspec": {
      "display_name": "Python 3",
      "language": "python",
      "name": "python3"
    },
    "language_info": {
      "codemirror_mode": {
        "name": "ipython",
        "version": 3
      },
      "file_extension": ".py",
      "mimetype": "text/x-python",
      "name": "python",
      "nbconvert_exporter": "python",
      "pygments_lexer": "ipython3",
      "version": "3.8.3"
    },
    "colab": {
      "name": "semantic-segment.ipynb",
      "provenance": [],
      "toc_visible": true,
      "include_colab_link": true
    },
    "widgets": {
      "application/vnd.jupyter.widget-state+json": {
        "381996ff44eb4002a5c8491c70f7346a": {
          "model_module": "@jupyter-widgets/controls",
          "model_name": "HBoxModel",
          "state": {
            "_view_name": "HBoxView",
            "_dom_classes": [],
            "_model_name": "HBoxModel",
            "_view_module": "@jupyter-widgets/controls",
            "_model_module_version": "1.5.0",
            "_view_count": null,
            "_view_module_version": "1.5.0",
            "box_style": "",
            "layout": "IPY_MODEL_03679d5924994cc4a7750444ad817dc2",
            "_model_module": "@jupyter-widgets/controls",
            "children": [
              "IPY_MODEL_f6de1f1775c4476183fb5beba62f183d",
              "IPY_MODEL_2ffe59482d854f21b36c5a15afc4df38"
            ]
          }
        },
        "03679d5924994cc4a7750444ad817dc2": {
          "model_module": "@jupyter-widgets/base",
          "model_name": "LayoutModel",
          "state": {
            "_view_name": "LayoutView",
            "grid_template_rows": null,
            "right": null,
            "justify_content": null,
            "_view_module": "@jupyter-widgets/base",
            "overflow": null,
            "_model_module_version": "1.2.0",
            "_view_count": null,
            "flex_flow": null,
            "width": null,
            "min_width": null,
            "border": null,
            "align_items": null,
            "bottom": null,
            "_model_module": "@jupyter-widgets/base",
            "top": null,
            "grid_column": null,
            "overflow_y": null,
            "overflow_x": null,
            "grid_auto_flow": null,
            "grid_area": null,
            "grid_template_columns": null,
            "flex": null,
            "_model_name": "LayoutModel",
            "justify_items": null,
            "grid_row": null,
            "max_height": null,
            "align_content": null,
            "visibility": null,
            "align_self": null,
            "height": null,
            "min_height": null,
            "padding": null,
            "grid_auto_rows": null,
            "grid_gap": null,
            "max_width": null,
            "order": null,
            "_view_module_version": "1.2.0",
            "grid_template_areas": null,
            "object_position": null,
            "object_fit": null,
            "grid_auto_columns": null,
            "margin": null,
            "display": null,
            "left": null
          }
        },
        "f6de1f1775c4476183fb5beba62f183d": {
          "model_module": "@jupyter-widgets/controls",
          "model_name": "FloatProgressModel",
          "state": {
            "_view_name": "ProgressView",
            "style": "IPY_MODEL_d40ca5b0628645d3a21912e47756467d",
            "_dom_classes": [],
            "description": "100%",
            "_model_name": "FloatProgressModel",
            "bar_style": "success",
            "max": 3,
            "_view_module": "@jupyter-widgets/controls",
            "_model_module_version": "1.5.0",
            "value": 3,
            "_view_count": null,
            "_view_module_version": "1.5.0",
            "orientation": "horizontal",
            "min": 0,
            "description_tooltip": null,
            "_model_module": "@jupyter-widgets/controls",
            "layout": "IPY_MODEL_18e96d7d05404fdcb04466442b5064e3"
          }
        },
        "2ffe59482d854f21b36c5a15afc4df38": {
          "model_module": "@jupyter-widgets/controls",
          "model_name": "HTMLModel",
          "state": {
            "_view_name": "HTMLView",
            "style": "IPY_MODEL_04a0a228004e4c33968d9aecfefddf2f",
            "_dom_classes": [],
            "description": "",
            "_model_name": "HTMLModel",
            "placeholder": "​",
            "_view_module": "@jupyter-widgets/controls",
            "_model_module_version": "1.5.0",
            "value": " 3/3 [00:57&lt;00:00, 19.28s/it]",
            "_view_count": null,
            "_view_module_version": "1.5.0",
            "description_tooltip": null,
            "_model_module": "@jupyter-widgets/controls",
            "layout": "IPY_MODEL_82b86de9f2684c8f939e166fa2d52905"
          }
        },
        "d40ca5b0628645d3a21912e47756467d": {
          "model_module": "@jupyter-widgets/controls",
          "model_name": "ProgressStyleModel",
          "state": {
            "_view_name": "StyleView",
            "_model_name": "ProgressStyleModel",
            "description_width": "initial",
            "_view_module": "@jupyter-widgets/base",
            "_model_module_version": "1.5.0",
            "_view_count": null,
            "_view_module_version": "1.2.0",
            "bar_color": null,
            "_model_module": "@jupyter-widgets/controls"
          }
        },
        "18e96d7d05404fdcb04466442b5064e3": {
          "model_module": "@jupyter-widgets/base",
          "model_name": "LayoutModel",
          "state": {
            "_view_name": "LayoutView",
            "grid_template_rows": null,
            "right": null,
            "justify_content": null,
            "_view_module": "@jupyter-widgets/base",
            "overflow": null,
            "_model_module_version": "1.2.0",
            "_view_count": null,
            "flex_flow": null,
            "width": null,
            "min_width": null,
            "border": null,
            "align_items": null,
            "bottom": null,
            "_model_module": "@jupyter-widgets/base",
            "top": null,
            "grid_column": null,
            "overflow_y": null,
            "overflow_x": null,
            "grid_auto_flow": null,
            "grid_area": null,
            "grid_template_columns": null,
            "flex": null,
            "_model_name": "LayoutModel",
            "justify_items": null,
            "grid_row": null,
            "max_height": null,
            "align_content": null,
            "visibility": null,
            "align_self": null,
            "height": null,
            "min_height": null,
            "padding": null,
            "grid_auto_rows": null,
            "grid_gap": null,
            "max_width": null,
            "order": null,
            "_view_module_version": "1.2.0",
            "grid_template_areas": null,
            "object_position": null,
            "object_fit": null,
            "grid_auto_columns": null,
            "margin": null,
            "display": null,
            "left": null
          }
        },
        "04a0a228004e4c33968d9aecfefddf2f": {
          "model_module": "@jupyter-widgets/controls",
          "model_name": "DescriptionStyleModel",
          "state": {
            "_view_name": "StyleView",
            "_model_name": "DescriptionStyleModel",
            "description_width": "",
            "_view_module": "@jupyter-widgets/base",
            "_model_module_version": "1.5.0",
            "_view_count": null,
            "_view_module_version": "1.2.0",
            "_model_module": "@jupyter-widgets/controls"
          }
        },
        "82b86de9f2684c8f939e166fa2d52905": {
          "model_module": "@jupyter-widgets/base",
          "model_name": "LayoutModel",
          "state": {
            "_view_name": "LayoutView",
            "grid_template_rows": null,
            "right": null,
            "justify_content": null,
            "_view_module": "@jupyter-widgets/base",
            "overflow": null,
            "_model_module_version": "1.2.0",
            "_view_count": null,
            "flex_flow": null,
            "width": null,
            "min_width": null,
            "border": null,
            "align_items": null,
            "bottom": null,
            "_model_module": "@jupyter-widgets/base",
            "top": null,
            "grid_column": null,
            "overflow_y": null,
            "overflow_x": null,
            "grid_auto_flow": null,
            "grid_area": null,
            "grid_template_columns": null,
            "flex": null,
            "_model_name": "LayoutModel",
            "justify_items": null,
            "grid_row": null,
            "max_height": null,
            "align_content": null,
            "visibility": null,
            "align_self": null,
            "height": null,
            "min_height": null,
            "padding": null,
            "grid_auto_rows": null,
            "grid_gap": null,
            "max_width": null,
            "order": null,
            "_view_module_version": "1.2.0",
            "grid_template_areas": null,
            "object_position": null,
            "object_fit": null,
            "grid_auto_columns": null,
            "margin": null,
            "display": null,
            "left": null
          }
        },
        "42b30539f0014c719ecea8f7422cecc1": {
          "model_module": "@jupyter-widgets/controls",
          "model_name": "HBoxModel",
          "state": {
            "_view_name": "HBoxView",
            "_dom_classes": [],
            "_model_name": "HBoxModel",
            "_view_module": "@jupyter-widgets/controls",
            "_model_module_version": "1.5.0",
            "_view_count": null,
            "_view_module_version": "1.5.0",
            "box_style": "",
            "layout": "IPY_MODEL_399789ab0e2b47e9a09034d78cde12eb",
            "_model_module": "@jupyter-widgets/controls",
            "children": [
              "IPY_MODEL_13b27431f1aa450aae52b54ee8857ab9",
              "IPY_MODEL_1fd0656274214929b42f234b9b6cd61a"
            ]
          }
        },
        "399789ab0e2b47e9a09034d78cde12eb": {
          "model_module": "@jupyter-widgets/base",
          "model_name": "LayoutModel",
          "state": {
            "_view_name": "LayoutView",
            "grid_template_rows": null,
            "right": null,
            "justify_content": null,
            "_view_module": "@jupyter-widgets/base",
            "overflow": null,
            "_model_module_version": "1.2.0",
            "_view_count": null,
            "flex_flow": null,
            "width": null,
            "min_width": null,
            "border": null,
            "align_items": null,
            "bottom": null,
            "_model_module": "@jupyter-widgets/base",
            "top": null,
            "grid_column": null,
            "overflow_y": null,
            "overflow_x": null,
            "grid_auto_flow": null,
            "grid_area": null,
            "grid_template_columns": null,
            "flex": null,
            "_model_name": "LayoutModel",
            "justify_items": null,
            "grid_row": null,
            "max_height": null,
            "align_content": null,
            "visibility": null,
            "align_self": null,
            "height": null,
            "min_height": null,
            "padding": null,
            "grid_auto_rows": null,
            "grid_gap": null,
            "max_width": null,
            "order": null,
            "_view_module_version": "1.2.0",
            "grid_template_areas": null,
            "object_position": null,
            "object_fit": null,
            "grid_auto_columns": null,
            "margin": null,
            "display": null,
            "left": null
          }
        },
        "13b27431f1aa450aae52b54ee8857ab9": {
          "model_module": "@jupyter-widgets/controls",
          "model_name": "FloatProgressModel",
          "state": {
            "_view_name": "ProgressView",
            "style": "IPY_MODEL_b8bf06d415504564b3111685c01a512f",
            "_dom_classes": [],
            "description": "100%",
            "_model_name": "FloatProgressModel",
            "bar_style": "success",
            "max": 1,
            "_view_module": "@jupyter-widgets/controls",
            "_model_module_version": "1.5.0",
            "value": 1,
            "_view_count": null,
            "_view_module_version": "1.5.0",
            "orientation": "horizontal",
            "min": 0,
            "description_tooltip": null,
            "_model_module": "@jupyter-widgets/controls",
            "layout": "IPY_MODEL_4c41d255558a4145a3568e9b9e6b9e33"
          }
        },
        "1fd0656274214929b42f234b9b6cd61a": {
          "model_module": "@jupyter-widgets/controls",
          "model_name": "HTMLModel",
          "state": {
            "_view_name": "HTMLView",
            "style": "IPY_MODEL_316baf2944824a0db80b628948f2a3f4",
            "_dom_classes": [],
            "description": "",
            "_model_name": "HTMLModel",
            "placeholder": "​",
            "_view_module": "@jupyter-widgets/controls",
            "_model_module_version": "1.5.0",
            "value": " 1/1 [00:54&lt;00:00, 54.71s/it]",
            "_view_count": null,
            "_view_module_version": "1.5.0",
            "description_tooltip": null,
            "_model_module": "@jupyter-widgets/controls",
            "layout": "IPY_MODEL_c6e750b85dd0435c9fd7e19596486689"
          }
        },
        "b8bf06d415504564b3111685c01a512f": {
          "model_module": "@jupyter-widgets/controls",
          "model_name": "ProgressStyleModel",
          "state": {
            "_view_name": "StyleView",
            "_model_name": "ProgressStyleModel",
            "description_width": "initial",
            "_view_module": "@jupyter-widgets/base",
            "_model_module_version": "1.5.0",
            "_view_count": null,
            "_view_module_version": "1.2.0",
            "bar_color": null,
            "_model_module": "@jupyter-widgets/controls"
          }
        },
        "4c41d255558a4145a3568e9b9e6b9e33": {
          "model_module": "@jupyter-widgets/base",
          "model_name": "LayoutModel",
          "state": {
            "_view_name": "LayoutView",
            "grid_template_rows": null,
            "right": null,
            "justify_content": null,
            "_view_module": "@jupyter-widgets/base",
            "overflow": null,
            "_model_module_version": "1.2.0",
            "_view_count": null,
            "flex_flow": null,
            "width": null,
            "min_width": null,
            "border": null,
            "align_items": null,
            "bottom": null,
            "_model_module": "@jupyter-widgets/base",
            "top": null,
            "grid_column": null,
            "overflow_y": null,
            "overflow_x": null,
            "grid_auto_flow": null,
            "grid_area": null,
            "grid_template_columns": null,
            "flex": null,
            "_model_name": "LayoutModel",
            "justify_items": null,
            "grid_row": null,
            "max_height": null,
            "align_content": null,
            "visibility": null,
            "align_self": null,
            "height": null,
            "min_height": null,
            "padding": null,
            "grid_auto_rows": null,
            "grid_gap": null,
            "max_width": null,
            "order": null,
            "_view_module_version": "1.2.0",
            "grid_template_areas": null,
            "object_position": null,
            "object_fit": null,
            "grid_auto_columns": null,
            "margin": null,
            "display": null,
            "left": null
          }
        },
        "316baf2944824a0db80b628948f2a3f4": {
          "model_module": "@jupyter-widgets/controls",
          "model_name": "DescriptionStyleModel",
          "state": {
            "_view_name": "StyleView",
            "_model_name": "DescriptionStyleModel",
            "description_width": "",
            "_view_module": "@jupyter-widgets/base",
            "_model_module_version": "1.5.0",
            "_view_count": null,
            "_view_module_version": "1.2.0",
            "_model_module": "@jupyter-widgets/controls"
          }
        },
        "c6e750b85dd0435c9fd7e19596486689": {
          "model_module": "@jupyter-widgets/base",
          "model_name": "LayoutModel",
          "state": {
            "_view_name": "LayoutView",
            "grid_template_rows": null,
            "right": null,
            "justify_content": null,
            "_view_module": "@jupyter-widgets/base",
            "overflow": null,
            "_model_module_version": "1.2.0",
            "_view_count": null,
            "flex_flow": null,
            "width": null,
            "min_width": null,
            "border": null,
            "align_items": null,
            "bottom": null,
            "_model_module": "@jupyter-widgets/base",
            "top": null,
            "grid_column": null,
            "overflow_y": null,
            "overflow_x": null,
            "grid_auto_flow": null,
            "grid_area": null,
            "grid_template_columns": null,
            "flex": null,
            "_model_name": "LayoutModel",
            "justify_items": null,
            "grid_row": null,
            "max_height": null,
            "align_content": null,
            "visibility": null,
            "align_self": null,
            "height": null,
            "min_height": null,
            "padding": null,
            "grid_auto_rows": null,
            "grid_gap": null,
            "max_width": null,
            "order": null,
            "_view_module_version": "1.2.0",
            "grid_template_areas": null,
            "object_position": null,
            "object_fit": null,
            "grid_auto_columns": null,
            "margin": null,
            "display": null,
            "left": null
          }
        },
        "a2073eca0e0843a29307fa0f83991af7": {
          "model_module": "@jupyter-widgets/controls",
          "model_name": "VBoxModel",
          "state": {
            "_view_name": "VBoxView",
            "_dom_classes": [
              "widget-interact"
            ],
            "_model_name": "VBoxModel",
            "_view_module": "@jupyter-widgets/controls",
            "_model_module_version": "1.5.0",
            "_view_count": null,
            "_view_module_version": "1.5.0",
            "box_style": "",
            "layout": "IPY_MODEL_f32d691447734090808c3153b20a71af",
            "_model_module": "@jupyter-widgets/controls",
            "children": [
              "IPY_MODEL_fd97978baf194220977c02913d8a7217",
              "IPY_MODEL_c7463d16b6904c7788b0e46b76953211"
            ]
          }
        },
        "f32d691447734090808c3153b20a71af": {
          "model_module": "@jupyter-widgets/base",
          "model_name": "LayoutModel",
          "state": {
            "_view_name": "LayoutView",
            "grid_template_rows": null,
            "right": null,
            "justify_content": null,
            "_view_module": "@jupyter-widgets/base",
            "overflow": null,
            "_model_module_version": "1.2.0",
            "_view_count": null,
            "flex_flow": null,
            "width": null,
            "min_width": null,
            "border": null,
            "align_items": null,
            "bottom": null,
            "_model_module": "@jupyter-widgets/base",
            "top": null,
            "grid_column": null,
            "overflow_y": null,
            "overflow_x": null,
            "grid_auto_flow": null,
            "grid_area": null,
            "grid_template_columns": null,
            "flex": null,
            "_model_name": "LayoutModel",
            "justify_items": null,
            "grid_row": null,
            "max_height": null,
            "align_content": null,
            "visibility": null,
            "align_self": null,
            "height": null,
            "min_height": null,
            "padding": null,
            "grid_auto_rows": null,
            "grid_gap": null,
            "max_width": null,
            "order": null,
            "_view_module_version": "1.2.0",
            "grid_template_areas": null,
            "object_position": null,
            "object_fit": null,
            "grid_auto_columns": null,
            "margin": null,
            "display": null,
            "left": null
          }
        },
        "fd97978baf194220977c02913d8a7217": {
          "model_module": "@jupyter-widgets/controls",
          "model_name": "DropdownModel",
          "state": {
            "_options_labels": [
              "car.jpg",
              "puppy.jpg",
              "cat.jpg"
            ],
            "_view_name": "DropdownView",
            "style": "IPY_MODEL_7e8759ef67f744cea02269bafcee1fde",
            "_dom_classes": [],
            "description": "file",
            "_model_name": "DropdownModel",
            "index": 2,
            "_view_module": "@jupyter-widgets/controls",
            "_model_module_version": "1.5.0",
            "_view_count": null,
            "disabled": false,
            "_view_module_version": "1.5.0",
            "description_tooltip": null,
            "_model_module": "@jupyter-widgets/controls",
            "layout": "IPY_MODEL_7bb229f2d2094f6d8071a713a5959a3e"
          }
        },
        "c7463d16b6904c7788b0e46b76953211": {
          "model_module": "@jupyter-widgets/output",
          "model_name": "OutputModel",
          "state": {
            "_view_name": "OutputView",
            "msg_id": "",
            "_dom_classes": [],
            "_model_name": "OutputModel",
            "outputs": [
              {
                "output_type": "stream",
                "metadata": {
                  "tags": []
                },
                "text": "/content/images/cat.jpg\n",
                "stream": "stdout"
              },
              {
                "output_type": "display_data",
                "metadata": {
                  "tags": []
                },
                "image/jpeg": "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\n",
                "text/plain": "<IPython.core.display.Image object>"
              }
            ],
            "_view_module": "@jupyter-widgets/output",
            "_model_module_version": "1.0.0",
            "_view_count": null,
            "_view_module_version": "1.0.0",
            "layout": "IPY_MODEL_3943e7c9e35948a2862acdd9ae24092a",
            "_model_module": "@jupyter-widgets/output"
          }
        },
        "7e8759ef67f744cea02269bafcee1fde": {
          "model_module": "@jupyter-widgets/controls",
          "model_name": "DescriptionStyleModel",
          "state": {
            "_view_name": "StyleView",
            "_model_name": "DescriptionStyleModel",
            "description_width": "",
            "_view_module": "@jupyter-widgets/base",
            "_model_module_version": "1.5.0",
            "_view_count": null,
            "_view_module_version": "1.2.0",
            "_model_module": "@jupyter-widgets/controls"
          }
        },
        "7bb229f2d2094f6d8071a713a5959a3e": {
          "model_module": "@jupyter-widgets/base",
          "model_name": "LayoutModel",
          "state": {
            "_view_name": "LayoutView",
            "grid_template_rows": null,
            "right": null,
            "justify_content": null,
            "_view_module": "@jupyter-widgets/base",
            "overflow": null,
            "_model_module_version": "1.2.0",
            "_view_count": null,
            "flex_flow": null,
            "width": null,
            "min_width": null,
            "border": null,
            "align_items": null,
            "bottom": null,
            "_model_module": "@jupyter-widgets/base",
            "top": null,
            "grid_column": null,
            "overflow_y": null,
            "overflow_x": null,
            "grid_auto_flow": null,
            "grid_area": null,
            "grid_template_columns": null,
            "flex": null,
            "_model_name": "LayoutModel",
            "justify_items": null,
            "grid_row": null,
            "max_height": null,
            "align_content": null,
            "visibility": null,
            "align_self": null,
            "height": null,
            "min_height": null,
            "padding": null,
            "grid_auto_rows": null,
            "grid_gap": null,
            "max_width": null,
            "order": null,
            "_view_module_version": "1.2.0",
            "grid_template_areas": null,
            "object_position": null,
            "object_fit": null,
            "grid_auto_columns": null,
            "margin": null,
            "display": null,
            "left": null
          }
        },
        "3943e7c9e35948a2862acdd9ae24092a": {
          "model_module": "@jupyter-widgets/base",
          "model_name": "LayoutModel",
          "state": {
            "_view_name": "LayoutView",
            "grid_template_rows": null,
            "right": null,
            "justify_content": null,
            "_view_module": "@jupyter-widgets/base",
            "overflow": null,
            "_model_module_version": "1.2.0",
            "_view_count": null,
            "flex_flow": null,
            "width": null,
            "min_width": null,
            "border": null,
            "align_items": null,
            "bottom": null,
            "_model_module": "@jupyter-widgets/base",
            "top": null,
            "grid_column": null,
            "overflow_y": null,
            "overflow_x": null,
            "grid_auto_flow": null,
            "grid_area": null,
            "grid_template_columns": null,
            "flex": null,
            "_model_name": "LayoutModel",
            "justify_items": null,
            "grid_row": null,
            "max_height": null,
            "align_content": null,
            "visibility": null,
            "align_self": null,
            "height": null,
            "min_height": null,
            "padding": null,
            "grid_auto_rows": null,
            "grid_gap": null,
            "max_width": null,
            "order": null,
            "_view_module_version": "1.2.0",
            "grid_template_areas": null,
            "object_position": null,
            "object_fit": null,
            "grid_auto_columns": null,
            "margin": null,
            "display": null,
            "left": null
          }
        }
      }
    }
  },
  "cells": [
    {
      "cell_type": "markdown",
      "metadata": {
        "id": "view-in-github",
        "colab_type": "text"
      },
      "source": [
        "<a href=\"https://colab.research.google.com/github/sam-morales/semantic-segmentation/blob/main/semantic-segment.ipynb\" target=\"_parent\"><img src=\"https://colab.research.google.com/assets/colab-badge.svg\" alt=\"Open In Colab\"/></a>"
      ]
    },
    {
      "cell_type": "markdown",
      "metadata": {
        "id": "QMm74RdVMe6Q"
      },
      "source": [
        "# Image Segmentation"
      ]
    },
    {
      "cell_type": "markdown",
      "metadata": {
        "id": "lmHqloVYMe6R"
      },
      "source": [
        "\n",
        "Computer vision is a rapidly growing field with new advances occurring daily. One of the coolest abilities of computer vision is being able to detect individual objects in an image or video.\n",
        "\n",
        "Images are simply made up of pixels which can be \"segmented\" into objects by a machine learning model. This model learns the classes of the desired classifications and then is able to find them in the image.\n",
        "\n",
        "Semantic Segmentation refers to classifying objects with the same pixel values inside the same colourmaps. This differs from instance segmentation where different instances of the same object are given differing colourmaps"
      ]
    },
    {
      "cell_type": "markdown",
      "metadata": {
        "id": "Pufxjws9Me6S"
      },
      "source": [
        "# Usage"
      ]
    },
    {
      "cell_type": "markdown",
      "metadata": {
        "id": "K5sYktqgMe6T"
      },
      "source": [
        "The setup for using image segmentation is simple using OpenCV and Pixellib on Python. Simply import the necessary dependencies:"
      ]
    },
    {
      "cell_type": "code",
      "metadata": {
        "id": "8cWc6RBmMe6U"
      },
      "source": [
        "while(True):\n",
        "  try:\n",
        "    import pixellib\n",
        "    break\n",
        "  except ModuleNotFoundError:\n",
        "    !pip install pixellib\n",
        "\n",
        "while(True):\n",
        "  try:\n",
        "    from pydrive.auth import GoogleAuth\n",
        "    from pydrive.drive import GoogleDrive\n",
        "    from google.colab import auth\n",
        "    from oauth2client.client import GoogleCredentials\n",
        "    break\n",
        "  except ModuleNotFoundError:\n",
        "    !pip install -U -q PyDrive  \n",
        "\n",
        "import numpy as np\n",
        "import os\n",
        "import time\n",
        "from pixellib.semantic import semantic_segmentation\n",
        "from __future__ import print_function\n",
        "from ipywidgets import interact, interactive\n",
        "from IPython.display import Image\n",
        "from google.colab import drive\n",
        "from tqdm.notebook import tqdm\n",
        "from matplotlib import pyplot as plt\n",
        "import ipywidgets as widgets\n",
        "img = 'none.jpg'"
      ],
      "execution_count": 2,
      "outputs": []
    },
    {
      "cell_type": "markdown",
      "metadata": {
        "id": "HfbeBXqBWR_K"
      },
      "source": [
        "This notebook comes prepared with some datasets and models already! So lets go ahead and load those:"
      ]
    },
    {
      "cell_type": "code",
      "metadata": {
        "id": "2OSNozGqWbg7",
        "outputId": "312d8d2e-a4dc-4245-c985-8366ac950a42",
        "colab": {
          "base_uri": "https://localhost:8080/",
          "height": 149,
          "referenced_widgets": [
            "381996ff44eb4002a5c8491c70f7346a",
            "03679d5924994cc4a7750444ad817dc2",
            "f6de1f1775c4476183fb5beba62f183d",
            "2ffe59482d854f21b36c5a15afc4df38",
            "d40ca5b0628645d3a21912e47756467d",
            "18e96d7d05404fdcb04466442b5064e3",
            "04a0a228004e4c33968d9aecfefddf2f",
            "82b86de9f2684c8f939e166fa2d52905",
            "42b30539f0014c719ecea8f7422cecc1",
            "399789ab0e2b47e9a09034d78cde12eb",
            "13b27431f1aa450aae52b54ee8857ab9",
            "1fd0656274214929b42f234b9b6cd61a",
            "b8bf06d415504564b3111685c01a512f",
            "4c41d255558a4145a3568e9b9e6b9e33",
            "316baf2944824a0db80b628948f2a3f4",
            "c6e750b85dd0435c9fd7e19596486689"
          ]
        }
      },
      "source": [
        "# 1. Authenticate and create the PyDrive client.\n",
        "auth.authenticate_user()\n",
        "gauth = GoogleAuth()\n",
        "gauth.credentials = GoogleCredentials.get_application_default()\n",
        "drive = GoogleDrive(gauth)\n",
        "\n",
        "def retrieve_files(destination_dir, g_ID):\n",
        "  # choose a local (colab) directory to store the data.\n",
        "  local_download_path = os.path.expanduser('/content/' + destination_dir)\n",
        "  try:\n",
        "    os.makedirs(local_download_path)\n",
        "  except: pass\n",
        "\n",
        "  # 2. Auto-iterate using the query syntax\n",
        "  #    https://developers.google.com/drive/v2/web/search-parameters\n",
        "  file_list = drive.ListFile(\n",
        "      {'q': f\"'{g_ID}' in parents\"}).GetList()\n",
        "\n",
        "  for f in tqdm(file_list):\n",
        "    # 3. Create & download by id.\n",
        "    #print('Title: %s, ID: %s' % (f['title'], f['id']))\n",
        "    fname = os.path.join(local_download_path, f['title'])\n",
        "    #print('Downloading to {}'.format(fname))\n",
        "    f_ = drive.CreateFile({'id': f['id']})\n",
        "    f_.GetContentFile(fname)\n",
        "\n",
        "print(\"Retrieving image sets:\")\n",
        "retrieve_files('images', '1RBAX-oqxSUb_j_EB4X7SCcJjzZJwJ6sm')\n",
        "print(\"Retrieving model:\")\n",
        "retrieve_files('models', '1cRaafU1x2i3wh9xiubAmEQCJBSzurlBU')"
      ],
      "execution_count": 4,
      "outputs": [
        {
          "output_type": "stream",
          "text": [
            "Retrieving image sets:\n"
          ],
          "name": "stdout"
        },
        {
          "output_type": "display_data",
          "data": {
            "application/vnd.jupyter.widget-view+json": {
              "model_id": "381996ff44eb4002a5c8491c70f7346a",
              "version_minor": 0,
              "version_major": 2
            },
            "text/plain": [
              "HBox(children=(FloatProgress(value=0.0, max=3.0), HTML(value='')))"
            ]
          },
          "metadata": {
            "tags": []
          }
        },
        {
          "output_type": "stream",
          "text": [
            "\n",
            "Retrieving model:\n"
          ],
          "name": "stdout"
        },
        {
          "output_type": "display_data",
          "data": {
            "application/vnd.jupyter.widget-view+json": {
              "model_id": "42b30539f0014c719ecea8f7422cecc1",
              "version_minor": 0,
              "version_major": 2
            },
            "text/plain": [
              "HBox(children=(FloatProgress(value=0.0, max=1.0), HTML(value='')))"
            ]
          },
          "metadata": {
            "tags": []
          }
        },
        {
          "output_type": "stream",
          "text": [
            "\n"
          ],
          "name": "stdout"
        }
      ]
    },
    {
      "cell_type": "markdown",
      "metadata": {
        "id": "6tExJzp5Me6b"
      },
      "source": [
        "Next we select the image we'd like to pass to to the model:"
      ]
    },
    {
      "cell_type": "code",
      "metadata": {
        "id": "QHxATwE3Me6c",
        "outputId": "f79326e0-50d6-4358-85fb-c3f8bd588968",
        "colab": {
          "base_uri": "https://localhost:8080/",
          "height": 448,
          "referenced_widgets": [
            "a2073eca0e0843a29307fa0f83991af7",
            "f32d691447734090808c3153b20a71af",
            "fd97978baf194220977c02913d8a7217",
            "c7463d16b6904c7788b0e46b76953211",
            "7e8759ef67f744cea02269bafcee1fde",
            "7bb229f2d2094f6d8071a713a5959a3e",
            "3943e7c9e35948a2862acdd9ae24092a"
          ]
        }
      },
      "source": [
        "def show_image_options(file=os.listdir(\"/content/images/\")):\n",
        "  fullpath = os.path.join(\"/content/images/\", file)\n",
        "  print(fullpath)\n",
        "  display(Image(fullpath))\n",
        "  return file\n",
        "\n",
        "w = interactive(show_image_options)\n",
        "display(w)"
      ],
      "execution_count": 7,
      "outputs": [
        {
          "output_type": "display_data",
          "data": {
            "application/vnd.jupyter.widget-view+json": {
              "model_id": "a2073eca0e0843a29307fa0f83991af7",
              "version_minor": 0,
              "version_major": 2
            },
            "text/plain": [
              "interactive(children=(Dropdown(description='file', options=('car.jpg', 'puppy.jpg', 'cat.jpg'), value='car.jpg…"
            ]
          },
          "metadata": {
            "tags": []
          }
        }
      ]
    },
    {
      "cell_type": "markdown",
      "metadata": {
        "id": "mnJXCSUxcoJR"
      },
      "source": [
        "Now we can initialize the model using Pixellib:"
      ]
    },
    {
      "cell_type": "code",
      "metadata": {
        "id": "9C0EoMpEcy3y"
      },
      "source": [
        "segment_image = semantic_segmentation()\n",
        "try:\n",
        "  segment_image.load_pascalvoc_model(\"/content/models/deeplabv3_xception_tf_dim_ordering_tf_kernels.h5\")\n",
        "except:\n",
        "  print(\"Error occurred while loading model! Is it in /content/models/deeplabv3_xception_tf_dim_ordering_tf_kernels.h5\")"
      ],
      "execution_count": 8,
      "outputs": []
    },
    {
      "cell_type": "markdown",
      "metadata": {
        "id": "SRntzx-FnhqD"
      },
      "source": [
        "Now generate our segmented image: \n",
        "\n",
        "(**PS**: To check out the other images, just load the image above and run this cell!)"
      ]
    },
    {
      "cell_type": "code",
      "metadata": {
        "id": "74ozfKbUnmfZ",
        "outputId": "52b15d96-ff3d-4bbd-9ed6-3132c59586c1",
        "colab": {
          "base_uri": "https://localhost:8080/",
          "height": 1000
        }
      },
      "source": [
        "start = time.time()\n",
        "segmap, segoverlay = segment_image.segmentAsPascalvoc(\"/content/images/\"+w.result)\n",
        "end = time.time()\n",
        "print(f\"Inference Time: {end-start:.2f} seconds\")\n",
        "plt.rcParams[\"figure.figsize\"] = (12.5,25)\n",
        "plt.imshow(segoverlay)"
      ],
      "execution_count": 9,
      "outputs": [
        {
          "output_type": "stream",
          "text": [
            "Inference Time: 9.85 seconds\n"
          ],
          "name": "stdout"
        },
        {
          "output_type": "execute_result",
          "data": {
            "text/plain": [
              "<matplotlib.image.AxesImage at 0x7f6b2472a7b8>"
            ]
          },
          "metadata": {
            "tags": []
          },
          "execution_count": 9
        },
        {
          "output_type": "display_data",
          "data": {
            "image/png": "[encoded data removed]",
            "text/plain": [
              "<Figure size 900x1800 with 1 Axes>"
            ]
          },
          "metadata": {
            "tags": [],
            "needs_background": "light"
          }
        }
      ]
    }
  ]
}