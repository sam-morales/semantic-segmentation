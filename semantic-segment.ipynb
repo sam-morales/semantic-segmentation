{
 "cells": [
  {
   "cell_type": "markdown",
   "metadata": {},
   "source": [
    "# Image Segmentation"
   ]
  },
  {
   "cell_type": "markdown",
   "metadata": {},
   "source": [
    "\n",
    "Computer vision is a rapidly growing field with new advances occurring daily. One of the coolest abilities of computer vision is being able to detect individual objects in an image or video.\n",
    "\n",
    "Images are simply made up of pixels which can be \"segmented\" into objects by a machine learning model. This model learns the classes of the desired classifications and then is able to find them in the image.\n",
    "\n",
    "Semantic Segmentation refers to classifying objects with the same pixel values inside the same colourmaps. This differs from instance segmentation where different instances of the same object are given differing colourmaps"
   ]
  },
  {
   "cell_type": "markdown",
   "metadata": {},
   "source": [
    "# Usage"
   ]
  },
  {
   "cell_type": "markdown",
   "metadata": {},
   "source": [
    "The setup for using image segmentation is simple using OpenCV and Pixellib on Python. Simply import the necessary dependencies:"
   ]
  },
  {
   "cell_type": "code",
   "execution_count": 4,
   "metadata": {},
   "outputs": [],
   "source": [
    "import pixellib\n",
    "import numpy as np\n",
    "import cv2\n",
    "import os\n",
    "import keyboard\n",
    "import time\n",
    "#os.environ[\"CUDA_VISIBLE_DEVICES\"]=\"-1\"\n",
    "from pixellib.semantic import semantic_segmentation\n",
    "from __future__ import print_function\n",
    "from ipywidgets import interact\n",
    "import ipywidgets as widgets"
   ]
  },
  {
   "cell_type": "markdown",
   "metadata": {},
   "source": [
    "Next we select the image we'd like to pass to to the model:"
   ]
  },
  {
   "cell_type": "code",
   "execution_count": 5,
   "metadata": {},
   "outputs": [
    {
     "data": {
      "text/plain": [
       "1"
      ]
     },
     "metadata": {},
     "output_type": "display_data"
    }
   ],
   "source": [
    "@interact(x=(1,3))\n",
    "def g(x=1):\n",
    "    return (x)"
   ]
  }
 ],
 "metadata": {
  "kernelspec": {
   "display_name": "Python 3",
   "language": "python",
   "name": "python3"
  },
  "language_info": {
   "codemirror_mode": {
    "name": "ipython",
    "version": 3
   },
   "file_extension": ".py",
   "mimetype": "text/x-python",
   "name": "python",
   "nbconvert_exporter": "python",
   "pygments_lexer": "ipython3",
   "version": "3.8.3"
  }
 },
 "nbformat": 4,
 "nbformat_minor": 4
}
