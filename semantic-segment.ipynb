{
  "nbformat": 4,
  "nbformat_minor": 0,
  "metadata": {
    "kernelspec": {
      "display_name": "Python 3",
      "language": "python",
      "name": "python3"
    },
    "language_info": {
      "codemirror_mode": {
        "name": "ipython",
        "version": 3
      },
      "file_extension": ".py",
      "mimetype": "text/x-python",
      "name": "python",
      "nbconvert_exporter": "python",
      "pygments_lexer": "ipython3",
      "version": "3.8.3"
    },
    "colab": {
      "name": "semantic-segment.ipynb",
      "provenance": []
    }
  },
  "cells": [
    {
      "cell_type": "markdown",
      "metadata": {
        "id": "QMm74RdVMe6Q"
      },
      "source": [
        "# Image Segmentation"
      ]
    },
    {
      "cell_type": "markdown",
      "metadata": {
        "id": "lmHqloVYMe6R"
      },
      "source": [
        "\n",
        "Computer vision is a rapidly growing field with new advances occurring daily. One of the coolest abilities of computer vision is being able to detect individual objects in an image or video.\n",
        "\n",
        "Images are simply made up of pixels which can be \"segmented\" into objects by a machine learning model. This model learns the classes of the desired classifications and then is able to find them in the image.\n",
        "\n",
        "Semantic Segmentation refers to classifying objects with the same pixel values inside the same colourmaps. This differs from instance segmentation where different instances of the same object are given differing colourmaps"
      ]
    },
    {
      "cell_type": "markdown",
      "metadata": {
        "id": "Pufxjws9Me6S"
      },
      "source": [
        "# Usage"
      ]
    },
    {
      "cell_type": "markdown",
      "metadata": {
        "id": "K5sYktqgMe6T"
      },
      "source": [
        "The setup for using image segmentation is simple using OpenCV and Pixellib on Python. Simply import the necessary dependencies:"
      ]
    },
    {
      "cell_type": "code",
      "metadata": {
        "id": "8cWc6RBmMe6U"
      },
      "source": [
        "try:\n",
        "  import pixellib\n",
        "except ModuleNotFoundError:\n",
        "  !pip install pixellib\n",
        "  import pixellib\n",
        "import numpy as np\n",
        "import cv2\n",
        "import os\n",
        "import time\n",
        "from pixellib.semantic import semantic_segmentation\n",
        "from __future__ import print_function\n",
        "from ipywidgets import interact\n",
        "from IPython.display import Image\n",
        "import ipywidgets as widgets"
      ],
      "execution_count": 6,
      "outputs": []
    },
    {
      "cell_type": "markdown",
      "metadata": {
        "id": "6tExJzp5Me6b"
      },
      "source": [
        "Next we select the image we'd like to pass to to the model (1 - Puppy, 2 - Cat, 3 - Cat AND Puppy)"
      ]
    },
    {
      "cell_type": "code",
      "metadata": {
        "id": "QHxATwE3Me6c",
        "outputId": "9c92d9e3-9a1e-4162-ddc4-d435a3ff37cb",
        "colab": {
          "base_uri": "https://localhost:8080/",
          "height": 299
        }
      },
      "source": [
        "!ls\n",
        "@interact\n",
        "def show_image_options(column = [\"Puppy\", \"Cat\", \"Car\"], file=os.listdir('images/')):\n",
        "  display(Image(fdir+file))\n",
        "  return column"
      ],
      "execution_count": 10,
      "outputs": [
        {
          "output_type": "stream",
          "text": [
            "sample_data\n"
          ],
          "name": "stdout"
        },
        {
          "output_type": "error",
          "ename": "FileNotFoundError",
          "evalue": "ignored",
          "traceback": [
            "\u001b[0;31m---------------------------------------------------------------------------\u001b[0m",
            "\u001b[0;31mFileNotFoundError\u001b[0m                         Traceback (most recent call last)",
            "\u001b[0;32m<ipython-input-10-7a7962a108ca>\u001b[0m in \u001b[0;36m<module>\u001b[0;34m()\u001b[0m\n\u001b[1;32m      1\u001b[0m \u001b[0mget_ipython\u001b[0m\u001b[0;34m(\u001b[0m\u001b[0;34m)\u001b[0m\u001b[0;34m.\u001b[0m\u001b[0msystem\u001b[0m\u001b[0;34m(\u001b[0m\u001b[0;34m'ls'\u001b[0m\u001b[0;34m)\u001b[0m\u001b[0;34m\u001b[0m\u001b[0;34m\u001b[0m\u001b[0m\n\u001b[1;32m      2\u001b[0m \u001b[0;34m@\u001b[0m\u001b[0minteract\u001b[0m\u001b[0;34m\u001b[0m\u001b[0;34m\u001b[0m\u001b[0m\n\u001b[0;32m----> 3\u001b[0;31m \u001b[0;32mdef\u001b[0m \u001b[0mshow_image_options\u001b[0m\u001b[0;34m(\u001b[0m\u001b[0mcolumn\u001b[0m \u001b[0;34m=\u001b[0m \u001b[0;34m[\u001b[0m\u001b[0;34m\"Puppy\"\u001b[0m\u001b[0;34m,\u001b[0m \u001b[0;34m\"Cat\"\u001b[0m\u001b[0;34m,\u001b[0m \u001b[0;34m\"Car\"\u001b[0m\u001b[0;34m]\u001b[0m\u001b[0;34m,\u001b[0m \u001b[0mfile\u001b[0m\u001b[0;34m=\u001b[0m\u001b[0mos\u001b[0m\u001b[0;34m.\u001b[0m\u001b[0mlistdir\u001b[0m\u001b[0;34m(\u001b[0m\u001b[0;34m'images/'\u001b[0m\u001b[0;34m)\u001b[0m\u001b[0;34m)\u001b[0m\u001b[0;34m:\u001b[0m\u001b[0;34m\u001b[0m\u001b[0;34m\u001b[0m\u001b[0m\n\u001b[0m\u001b[1;32m      4\u001b[0m   \u001b[0mdisplay\u001b[0m\u001b[0;34m(\u001b[0m\u001b[0mImage\u001b[0m\u001b[0;34m(\u001b[0m\u001b[0mfdir\u001b[0m\u001b[0;34m+\u001b[0m\u001b[0mfile\u001b[0m\u001b[0;34m)\u001b[0m\u001b[0;34m)\u001b[0m\u001b[0;34m\u001b[0m\u001b[0;34m\u001b[0m\u001b[0m\n\u001b[1;32m      5\u001b[0m   \u001b[0;32mreturn\u001b[0m \u001b[0mcolumn\u001b[0m\u001b[0;34m\u001b[0m\u001b[0;34m\u001b[0m\u001b[0m\n",
            "\u001b[0;31mFileNotFoundError\u001b[0m: [Errno 2] No such file or directory: 'images/'"
          ]
        }
      ]
    }
  ]
}